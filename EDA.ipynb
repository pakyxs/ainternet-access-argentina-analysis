{
 "cells": [
  {
   "cell_type": "code",
   "execution_count": 28,
   "metadata": {},
   "outputs": [],
   "source": [
    "import warnings\n",
    "warnings.filterwarnings('ignore')\n",
    "import pandas as pd\n",
    "import numpy as np\n",
    "from ydata_profiling import ProfileReport\n",
    "import requests\n"
   ]
  },
  {
   "cell_type": "code",
   "execution_count": 10,
   "metadata": {},
   "outputs": [],
   "source": [
    "auth_key = 'qCAwvbY5DA4gXfxogObym8FftukU6Ue1TOcH2VCL'"
   ]
  },
  {
   "cell_type": "code",
   "execution_count": 32,
   "metadata": {},
   "outputs": [],
   "source": [
    "url = \"http://api.datosabiertos.enacom.gob.ar/api/v2/visualizations/VELOC-PROME-DE-BAJAD-DE/?auth_key=\"+auth_key # Reemplaza con la URL de la API que deseas consultar\n",
    "response = requests.get(url)\n",
    "data = response.json()\n",
    "\n"
   ]
  },
  {
   "cell_type": "code",
   "execution_count": 33,
   "metadata": {},
   "outputs": [
    {
     "data": {
      "text/plain": [
       "{'result': None,\n",
       " 'status': 3,\n",
       " 'endpoint': None,\n",
       " 'description': 'Serie histórica de la velocidad media de descarga de Internet nacional (trimestral)',\n",
       " 'parameters': [],\n",
       " 'tags': ['internet', 'velocidad', 'banda ancha'],\n",
       " 'last_revision_id': 54975,\n",
       " 'timestamp': None,\n",
       " 'created_at': '2022-08-03T12:20:08Z',\n",
       " 'title': 'Velocidad Media de bajada de Internet fijo',\n",
       " 'modified_at': '2023-03-21T16:55:40Z',\n",
       " 'category_id': 79257,\n",
       " 'methods': None,\n",
       " 'sources': [],\n",
       " 'total_revisions': 23,\n",
       " 'frequency': None,\n",
       " 'link': None,\n",
       " 'user': 'CLOSED.cpinfante',\n",
       " 'status_str': None,\n",
       " 'guid': 'VELOC-PROME-DE-BAJAD-DE',\n",
       " 'category_name': 'Acceso a Internet'}"
      ]
     },
     "execution_count": 33,
     "metadata": {},
     "output_type": "execute_result"
    }
   ],
   "source": [
    "data"
   ]
  },
  {
   "cell_type": "code",
   "execution_count": 34,
   "metadata": {},
   "outputs": [],
   "source": [
    "links = ['https://datosabiertos.enacom.gob.ar/datasets/176155-penetracion-nacional-del-internet-fijo.download/','https://datosabiertos.enacom.gob.ar/datasets/176155-penetracion-del-internet-fijo-por-provincia-accesos-por-cada-100-hogares.download/','https://datosabiertos.enacom.gob.ar/datasets/176153-total-nacional-de-accesos-a-internet-fijo-por-banda-ancha-y-banda-angosta.download/','https://datosabiertos.enacom.gob.ar/datasets/176153-accesos-a-banda-ancha-y-banda-angosta-por-provincia.download/','https://datosabiertos.enacom.gob.ar/datasets/176072-total-nacional-de-accesos-a-internet-fijo-por-tipo-de-tecnologia.download/','https://datosabiertos.enacom.gob.ar/datasets/176072-acceso-a-internet-fijo-por-tecnologia-y-provincia.download/','https://datosabiertos.enacom.gob.ar/datasets/179805-velocidad-media-de-bajada-de-internet-nacional.download/','https://datosabiertos.enacom.gob.ar/datasets/179805-velocidad-media-de-bajada-de-internet-fijo-por-provincia.download/','https://datosabiertos.enacom.gob.ar/datasets/176090-total-nacional-de-accesos-a-internet-fijo-por-velocidad-de-bajada.download/','https://datosabiertos.enacom.gob.ar/datasets/176090-acceso-a-internet-fijo-por-rangos-de-velocidad-de-bajada-y-provincia.download/','https://datosabiertos.enacom.gob.ar/datasets/180149-accesos-a-internet-fijo-por-velocidad-bajada-y-provincia.download/','https://datosabiertos.enacom.gob.ar/datasets/176154-ingresos-por-la-operacion-del-servicio-de-internet-fijo.download/','https://datosabiertos.enacom.gob.ar/datasets/185426-accesos-a-internet-fijo-por-velocidad-de-bajada-y-localidad.download/','https://datosabiertos.enacom.gob.ar/datasets/185537-accesos-a-internet-fijo-por-tecnologia-y-localidad.download/','https://datosabiertos.enacom.gob.ar/datasets/176294-listado-de-localidades-con-conectividad-a-internet.download/','https://datosabiertos.enacom.gob.ar/datasets/176294-conectividad-al-servicio-de-internet.download/']"
   ]
  },
  {
   "cell_type": "code",
   "execution_count": 35,
   "metadata": {},
   "outputs": [],
   "source": [
    "df_names = ['df_penetracion_nacional_del_internet_fijo','df_penetracion-del-internet-fijo-por-provincia-accesos-por-cada-100-hogares','df_total-nacional-de-accesos-a-internet-fijo-por-banda-ancha-y-banda-angosta','df_accesos-a-banda-ancha-y-banda-angosta-por-provincia','df_total-nacional-de-accesos-a-internet-fijo-por-tipo-de-tecnologia','df_acceso-a-internet-fijo-por-tecnologia-y-provincia','df_velocidad-media-de-bajada-de-internet-nacional','df_velocidad-media-de-bajada-de-internet-nacional','df_velocidad-media-de-bajada-de-internet-fijo-por-provincia','df_total-nacional-de-accesos-a-internet-fijo-por-velocidad-de-bajada','df_acceso-a-internet-fijo-por-rangos-de-velocidad-de-bajada-y-provincia','df_accesos-a-internet-fijo-por-velocidad-bajada-y-provincia','df_ingresos-por-la-operacion-del-servicio-de-internet-fijo','df_accesos-a-internet-fijo-por-velocidad-de-bajada-y-localidad','df_accesos-a-internet-fijo-por-tecnologia-y-localidad','df_listado-de-localidades-con-conectividad-a-internet','df_conectividad-al-servicio-de-internet']\n"
   ]
  },
  {
   "cell_type": "code",
   "execution_count": 41,
   "metadata": {},
   "outputs": [],
   "source": [
    "for link,name in zip(links,df_names):\n",
    "    excel = pd.read_excel(link)\n",
    "    globals()[name] = pd.DataFrame(excel)"
   ]
  },
  {
   "cell_type": "code",
   "execution_count": 43,
   "metadata": {},
   "outputs": [
    {
     "data": {
      "text/html": [
       "<div>\n",
       "<style scoped>\n",
       "    .dataframe tbody tr th:only-of-type {\n",
       "        vertical-align: middle;\n",
       "    }\n",
       "\n",
       "    .dataframe tbody tr th {\n",
       "        vertical-align: top;\n",
       "    }\n",
       "\n",
       "    .dataframe thead th {\n",
       "        text-align: right;\n",
       "    }\n",
       "</style>\n",
       "<table border=\"1\" class=\"dataframe\">\n",
       "  <thead>\n",
       "    <tr style=\"text-align: right;\">\n",
       "      <th></th>\n",
       "      <th>Año</th>\n",
       "      <th>Trimestre</th>\n",
       "      <th>Provincia</th>\n",
       "      <th>Accesos por cada 100 hab</th>\n",
       "    </tr>\n",
       "  </thead>\n",
       "  <tbody>\n",
       "    <tr>\n",
       "      <th>0</th>\n",
       "      <td>2022</td>\n",
       "      <td>3</td>\n",
       "      <td>Buenos Aires</td>\n",
       "      <td>26.37</td>\n",
       "    </tr>\n",
       "    <tr>\n",
       "      <th>1</th>\n",
       "      <td>2022</td>\n",
       "      <td>3</td>\n",
       "      <td>Capital Federal</td>\n",
       "      <td>50.22</td>\n",
       "    </tr>\n",
       "    <tr>\n",
       "      <th>2</th>\n",
       "      <td>2022</td>\n",
       "      <td>3</td>\n",
       "      <td>Catamarca</td>\n",
       "      <td>16.62</td>\n",
       "    </tr>\n",
       "    <tr>\n",
       "      <th>3</th>\n",
       "      <td>2022</td>\n",
       "      <td>3</td>\n",
       "      <td>Chaco</td>\n",
       "      <td>11.72</td>\n",
       "    </tr>\n",
       "    <tr>\n",
       "      <th>4</th>\n",
       "      <td>2022</td>\n",
       "      <td>3</td>\n",
       "      <td>Chubut</td>\n",
       "      <td>25.86</td>\n",
       "    </tr>\n",
       "  </tbody>\n",
       "</table>\n",
       "</div>"
      ],
      "text/plain": [
       "    Año  Trimestre        Provincia  Accesos por cada 100 hab\n",
       "0  2022          3     Buenos Aires                     26.37\n",
       "1  2022          3  Capital Federal                     50.22\n",
       "2  2022          3        Catamarca                     16.62\n",
       "3  2022          3            Chaco                     11.72\n",
       "4  2022          3           Chubut                     25.86"
      ]
     },
     "execution_count": 43,
     "metadata": {},
     "output_type": "execute_result"
    }
   ],
   "source": [
    "df_penetracion_nacional_del_internet_fijo.head()"
   ]
  },
  {
   "cell_type": "code",
   "execution_count": 25,
   "metadata": {},
   "outputs": [
    {
     "data": {
      "text/html": [
       "<div>\n",
       "<style scoped>\n",
       "    .dataframe tbody tr th:only-of-type {\n",
       "        vertical-align: middle;\n",
       "    }\n",
       "\n",
       "    .dataframe tbody tr th {\n",
       "        vertical-align: top;\n",
       "    }\n",
       "\n",
       "    .dataframe thead th {\n",
       "        text-align: right;\n",
       "    }\n",
       "</style>\n",
       "<table border=\"1\" class=\"dataframe\">\n",
       "  <thead>\n",
       "    <tr style=\"text-align: right;\">\n",
       "      <th></th>\n",
       "      <th>Año</th>\n",
       "      <th>Trimestre</th>\n",
       "      <th>Provincia</th>\n",
       "      <th>Accesos por cada 100 hab</th>\n",
       "    </tr>\n",
       "  </thead>\n",
       "  <tbody>\n",
       "    <tr>\n",
       "      <th>0</th>\n",
       "      <td>2022</td>\n",
       "      <td>3</td>\n",
       "      <td>Buenos Aires</td>\n",
       "      <td>26.370000</td>\n",
       "    </tr>\n",
       "    <tr>\n",
       "      <th>1</th>\n",
       "      <td>2022</td>\n",
       "      <td>3</td>\n",
       "      <td>Capital Federal</td>\n",
       "      <td>50.220000</td>\n",
       "    </tr>\n",
       "    <tr>\n",
       "      <th>2</th>\n",
       "      <td>2022</td>\n",
       "      <td>3</td>\n",
       "      <td>Catamarca</td>\n",
       "      <td>16.620000</td>\n",
       "    </tr>\n",
       "    <tr>\n",
       "      <th>3</th>\n",
       "      <td>2022</td>\n",
       "      <td>3</td>\n",
       "      <td>Chaco</td>\n",
       "      <td>11.720000</td>\n",
       "    </tr>\n",
       "    <tr>\n",
       "      <th>4</th>\n",
       "      <td>2022</td>\n",
       "      <td>3</td>\n",
       "      <td>Chubut</td>\n",
       "      <td>25.860000</td>\n",
       "    </tr>\n",
       "    <tr>\n",
       "      <th>...</th>\n",
       "      <td>...</td>\n",
       "      <td>...</td>\n",
       "      <td>...</td>\n",
       "      <td>...</td>\n",
       "    </tr>\n",
       "    <tr>\n",
       "      <th>835</th>\n",
       "      <td>2014</td>\n",
       "      <td>1</td>\n",
       "      <td>Santa Cruz</td>\n",
       "      <td>8.677327</td>\n",
       "    </tr>\n",
       "    <tr>\n",
       "      <th>836</th>\n",
       "      <td>2014</td>\n",
       "      <td>1</td>\n",
       "      <td>Santa Fe</td>\n",
       "      <td>15.077801</td>\n",
       "    </tr>\n",
       "    <tr>\n",
       "      <th>837</th>\n",
       "      <td>2014</td>\n",
       "      <td>1</td>\n",
       "      <td>Santiago Del Estero</td>\n",
       "      <td>4.058899</td>\n",
       "    </tr>\n",
       "    <tr>\n",
       "      <th>838</th>\n",
       "      <td>2014</td>\n",
       "      <td>1</td>\n",
       "      <td>Tierra Del Fuego</td>\n",
       "      <td>19.104921</td>\n",
       "    </tr>\n",
       "    <tr>\n",
       "      <th>839</th>\n",
       "      <td>2014</td>\n",
       "      <td>1</td>\n",
       "      <td>Tucumán</td>\n",
       "      <td>8.307215</td>\n",
       "    </tr>\n",
       "  </tbody>\n",
       "</table>\n",
       "<p>840 rows × 4 columns</p>\n",
       "</div>"
      ],
      "text/plain": [
       "      Año  Trimestre            Provincia  Accesos por cada 100 hab\n",
       "0    2022          3         Buenos Aires                 26.370000\n",
       "1    2022          3      Capital Federal                 50.220000\n",
       "2    2022          3            Catamarca                 16.620000\n",
       "3    2022          3                Chaco                 11.720000\n",
       "4    2022          3               Chubut                 25.860000\n",
       "..    ...        ...                  ...                       ...\n",
       "835  2014          1           Santa Cruz                  8.677327\n",
       "836  2014          1             Santa Fe                 15.077801\n",
       "837  2014          1  Santiago Del Estero                  4.058899\n",
       "838  2014          1     Tierra Del Fuego                 19.104921\n",
       "839  2014          1              Tucumán                  8.307215\n",
       "\n",
       "[840 rows x 4 columns]"
      ]
     },
     "execution_count": 25,
     "metadata": {},
     "output_type": "execute_result"
    }
   ],
   "source": [
    "df"
   ]
  },
  {
   "cell_type": "code",
   "execution_count": 8,
   "metadata": {},
   "outputs": [
    {
     "name": "stdout",
     "output_type": "stream",
     "text": [
      "             0\n",
      "0       result\n",
      "1       status\n",
      "2     endpoint\n",
      "3  description\n",
      "4   parameters\n"
     ]
    }
   ],
   "source": [
    "\n",
    "url = \"http://api.datosabiertos.enacom.gob.ar/api/v2/visualizations/PENET-POR-HOGAR-NACIO-DEL/?auth_key=\"+auth_key\n",
    "params = {\n",
    "    \"page\": 1,  # Página inicial\n",
    "    \"limit\": 100  # Número de resultados por página\n",
    "}\n",
    "\n",
    "data = []  # Lista para almacenar los datos de todas las páginas\n",
    "\n",
    "while True:\n",
    "    response = requests.get(url, params=params)\n",
    "    \n",
    "    if response.status_code == 200:\n",
    "        page_data = response.json()\n",
    "        data.extend(page_data)  # Agregar los datos de la página a la lista\n",
    "        \n",
    "        # Verificar si hay más páginas\n",
    "        if len(page_data) < params[\"limit\"]:\n",
    "            break\n",
    "        \n",
    "        # Pasar a la siguiente página\n",
    "        params[\"page\"] += 1\n",
    "    else:\n",
    "        print(\"Error en la solicitud. Código de estado:\", response.status_code)\n",
    "        break\n",
    "\n",
    "# Crear un DataFrame a partir de los datos\n",
    "df = pd.DataFrame(data)\n",
    "\n",
    "# Explorar y manipular el DataFrame según tus necesidades\n",
    "print(df.head())\n"
   ]
  }
 ],
 "metadata": {
  "kernelspec": {
   "display_name": "base",
   "language": "python",
   "name": "python3"
  },
  "language_info": {
   "codemirror_mode": {
    "name": "ipython",
    "version": 3
   },
   "file_extension": ".py",
   "mimetype": "text/x-python",
   "name": "python",
   "nbconvert_exporter": "python",
   "pygments_lexer": "ipython3",
   "version": "3.10.9"
  },
  "orig_nbformat": 4
 },
 "nbformat": 4,
 "nbformat_minor": 2
}
